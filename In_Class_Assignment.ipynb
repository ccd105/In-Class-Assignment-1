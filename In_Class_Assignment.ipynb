{
  "nbformat": 4,
  "nbformat_minor": 0,
  "metadata": {
    "colab": {
      "provenance": [],
      "authorship_tag": "ABX9TyNbFBM9YlX9dOS47GMXIap6",
      "include_colab_link": true
    },
    "kernelspec": {
      "name": "python3",
      "display_name": "Python 3"
    },
    "language_info": {
      "name": "python"
    }
  },
  "cells": [
    {
      "cell_type": "markdown",
      "metadata": {
        "id": "view-in-github",
        "colab_type": "text"
      },
      "source": [
        "<a href=\"https://colab.research.google.com/github/ccd105/In-Class-Assignment-1/blob/main/In_Class_Assignment.ipynb\" target=\"_parent\"><img src=\"https://colab.research.google.com/assets/colab-badge.svg\" alt=\"Open In Colab\"/></a>"
      ]
    },
    {
      "cell_type": "markdown",
      "source": [
        "Area of a cylinder:"
      ],
      "metadata": {
        "id": "bNO540sVeoZ-"
      }
    },
    {
      "cell_type": "code",
      "execution_count": null,
      "metadata": {
        "colab": {
          "base_uri": "https://localhost:8080/"
        },
        "id": "UFXAGN90Z5N_",
        "outputId": "51abea5a-0ec0-4a70-e731-2ec0d91f5a81"
      },
      "outputs": [
        {
          "output_type": "stream",
          "name": "stdout",
          "text": [
            "Please provide the radius: 5\n",
            "Please provide the height: 10\n",
            "Area of cylinder = 471.23889 sq. ft\n"
          ]
        }
      ],
      "source": [
        "radius = float(input(\"Please provide the radius: \"))\n",
        "height = float(input(\"Please provide the height: \"))\n",
        "pi = 3.1415926\n",
        "\n",
        "area = (2 * pi * radius**2)+(2 * pi * radius * height)\n",
        "print(f'Area of cylinder = {area} sq. ft')"
      ]
    },
    {
      "cell_type": "markdown",
      "source": [
        "**Fri Jan 31:** Design a calculator"
      ],
      "metadata": {
        "id": "bHiriU5tb9aP"
      }
    },
    {
      "cell_type": "code",
      "source": [
        "first = float(input(\"Please provide the first number: \"))\n",
        "opperation = input(\"Please provide the opperation (+,-,*,/,//,**,%): \")\n",
        "second = float(input(\"Please provide the second number: \"))\n",
        "\n",
        "if opperation == \"+\":\n",
        "    print(f'{first} + {second} = {first + second}')\n",
        "elif opperation == \"-\":\n",
        "    print(f'{first} - {second} = {first - second}')\n",
        "elif opperation == \"*\":\n",
        "    print(f'{first} * {second} = {first * second}')\n",
        "elif opperation == \"/\":\n",
        "    print(f'{first} / {second} = {first / second}')\n",
        "elif opperation == \"//\":\n",
        "    print(f'{first} // {second} = {first // second}')\n",
        "elif opperation == \"**\":\n",
        "    print(f'{first} ** {second} = {first ** second}')\n",
        "elif opperation == \"%\":\n",
        "    print(f'{first} % {second} = {first % second}')\n",
        "else:\n",
        "    print(\"Invalid opperation\")"
      ],
      "metadata": {
        "colab": {
          "base_uri": "https://localhost:8080/"
        },
        "id": "Odh5Mjb7cBJD",
        "outputId": "84fa8110-ad4d-4624-96e1-cc8aac042206"
      },
      "execution_count": null,
      "outputs": [
        {
          "output_type": "stream",
          "name": "stdout",
          "text": [
            "Please provide the first number: 5\n",
            "Please provide the opperation (+,-,*,/,//,**,%): #\n",
            "Please provide the second number: 9\n",
            "Invalid opperation\n"
          ]
        }
      ]
    },
    {
      "cell_type": "markdown",
      "source": [
        "**2/5 Parking Garage - Initial Problem**"
      ],
      "metadata": {
        "id": "61v3KM1sJRKu"
      }
    },
    {
      "cell_type": "code",
      "source": [
        "for number in range(1, 9):\n",
        "  fee = 5 + 2.5 * number\n",
        "  if fee < 10.0:\n",
        "    fee = 10.0\n",
        "  elif fee > 20.0:\n",
        "   fee = 20.0\n",
        "  print(number, fee)"
      ],
      "metadata": {
        "colab": {
          "base_uri": "https://localhost:8080/"
        },
        "id": "nlelNWh6K38n",
        "outputId": "82b1aa65-ab8d-4ff1-ac41-f3e1e1242fc5"
      },
      "execution_count": null,
      "outputs": [
        {
          "output_type": "stream",
          "name": "stdout",
          "text": [
            "1 10.0\n",
            "2 10.0\n",
            "3 12.5\n",
            "4 15.0\n",
            "5 17.5\n",
            "6 20.0\n",
            "7 20.0\n",
            "8 20.0\n"
          ]
        }
      ]
    },
    {
      "cell_type": "markdown",
      "source": [
        "**2/5 Movie Theater - Initial Problem**"
      ],
      "metadata": {
        "id": "RTywTKAsOAn5"
      }
    },
    {
      "cell_type": "code",
      "source": [
        "print('Ad$' , 'Profit')\n",
        "for adcost in range(0,201,25):\n",
        "  additional = 2 * round(adcost ** 0.5)\n",
        "  profit = (20 + additional) * 10 - 200 - adcost\n",
        "  print(adcost , profit)\n"
      ],
      "metadata": {
        "colab": {
          "base_uri": "https://localhost:8080/"
        },
        "id": "BVM8SjxCRwjk",
        "outputId": "dca29c77-1ba7-4ee9-909c-57756e6347a5"
      },
      "execution_count": null,
      "outputs": [
        {
          "output_type": "stream",
          "name": "stdout",
          "text": [
            "Ad$ Profit\n",
            "0 0\n",
            "25 75\n",
            "50 90\n",
            "75 105\n",
            "100 100\n",
            "125 95\n",
            "150 90\n",
            "175 85\n",
            "200 80\n"
          ]
        }
      ]
    },
    {
      "cell_type": "markdown",
      "source": [
        "**2/10 Rock-Paper-Scissors**"
      ],
      "metadata": {
        "id": "6qHBrD7B4jxP"
      }
    },
    {
      "cell_type": "code",
      "source": [
        "import random\n",
        "\n",
        "play = input(\"Would you like to play? (y/n): \")\n",
        "\n",
        "while play == \"y\":\n",
        "  p1 = input(\"Player 1 (rock, paper, scissors): \")\n",
        "  p2 = random.choice([\"rock\", \"paper\", \"scissors\"])\n",
        "\n",
        "  print(f'Player chose {p1}; Computer chose {p2}')\n",
        "\n",
        "  if p1 == p2:\n",
        "    print(\"Draw\")\n",
        "  elif p1 == \"rock\" and p2 == \"scissors\":\n",
        "    print(\"Player 1 Wins!\")\n",
        "  elif p1 == \"scissors\" and p2 == \"paper\":\n",
        "    print(\"Player 1 Wins!\")\n",
        "  elif p1 == \"paper\" and p2 == \"rock\":\n",
        "    print(\"Player 1 Wins!\")\n",
        "  else:\n",
        "    print(\"Player 2 Wins!\")\n",
        "\n",
        "  play = input(\"Do you want to play a new game? (y/n): \")\n",
        "\n",
        "print(\"Good day!\")"
      ],
      "metadata": {
        "colab": {
          "base_uri": "https://localhost:8080/"
        },
        "id": "K5QwpYrh9e7-",
        "outputId": "65d1ecc1-8b6e-411a-ccb2-268e11a25c07"
      },
      "execution_count": null,
      "outputs": [
        {
          "output_type": "stream",
          "name": "stdout",
          "text": [
            "Would you like to play? (y/n): y\n",
            "Player 1 (rock, paper, scissors): paper\n",
            "Player chose paper; Computer chose paper\n",
            "Draw\n",
            "Do you want to play a new game? (y/n): n\n",
            "Good day!\n"
          ]
        }
      ]
    },
    {
      "cell_type": "markdown",
      "source": [
        "**2/17 Numbers Until 0**"
      ],
      "metadata": {
        "id": "CMk9oDcb_kHo"
      }
    },
    {
      "cell_type": "code",
      "source": [
        "lst = []\n",
        "\n",
        "num = float(input(\"Please provide a number: \"))\n",
        "\n",
        "while num != 0:\n",
        "  lst.append(num)\n",
        "  num = float(input(\"Please provide a number: \"))\n",
        "lst.sort(reverse=True)\n",
        "print(lst)"
      ],
      "metadata": {
        "colab": {
          "base_uri": "https://localhost:8080/"
        },
        "id": "9R8yfFXOCMer",
        "outputId": "ce2e4623-cdf9-4d67-9ed1-b6368b99955c"
      },
      "execution_count": null,
      "outputs": [
        {
          "output_type": "stream",
          "name": "stdout",
          "text": [
            "Please provide a number: 5\n",
            "Please provide a number: 7\n",
            "Please provide a number: 8\n",
            "Please provide a number: 6\n",
            "Please provide a number: 0\n",
            "[8.0, 7.0, 6.0, 5.0]\n"
          ]
        }
      ]
    },
    {
      "cell_type": "markdown",
      "source": [
        "**2/21 Dictionary**"
      ],
      "metadata": {
        "id": "A3woOkUBiSyJ"
      }
    },
    {
      "cell_type": "code",
      "source": [
        "months = {\n",
        "    \"Jan\": 1,\n",
        "    \"Feb\": 2,\n",
        "    \"Mar\": 3,\n",
        "    \"Apr\": 4,\n",
        "    \"May\": 5,\n",
        "    \"Jun\": 6,\n",
        "    \"Jul\": 7,\n",
        "    \"Aug\": 8,\n",
        "    \"Sep\": 9,\n",
        "    \"Oct\": 10,\n",
        "    \"Nov\": 11,\n",
        "    \"Dec\": 12\n",
        "}\n",
        "\n",
        "print(months)"
      ],
      "metadata": {
        "colab": {
          "base_uri": "https://localhost:8080/"
        },
        "id": "0PCyF8CWiY4P",
        "outputId": "c4290df4-0746-49c7-e82f-ad17ddeb117f"
      },
      "execution_count": null,
      "outputs": [
        {
          "output_type": "stream",
          "name": "stdout",
          "text": [
            "{'Jan': 1, 'Feb': 2, 'Mar': 3, 'Apr': 4, 'May': 5, 'Jun': 6, 'Jul': 7, 'Aug': 8, 'Sep': 9, 'Oct': 10, 'Nov': 11, 'Dec': 12}\n"
          ]
        }
      ]
    },
    {
      "cell_type": "code",
      "source": [
        "months = {}\n",
        "\n",
        "names = [\"Jan\", \"Feb\", \"Mar\", \"Apr\", \"May\", \"Jun\", \"Jul\", \"Aug\", \"Sep\", \"Oct\", \"Nov\", \"Dec\"]\n",
        "numbers = [1, 2, 3, 4, 5, 6, 7, 8, 9, 10, 11, 12]\n",
        "\n",
        "for idx in range(len(numbers)):\n",
        "  months[numbers[idx]] = names[idx]\n",
        "months"
      ],
      "metadata": {
        "colab": {
          "base_uri": "https://localhost:8080/"
        },
        "id": "9cKtnzSFllnP",
        "outputId": "a550dd99-e35c-4bf8-ef7b-1e048480b736"
      },
      "execution_count": null,
      "outputs": [
        {
          "output_type": "execute_result",
          "data": {
            "text/plain": [
              "{1: 'Jan',\n",
              " 2: 'Feb',\n",
              " 3: 'Mar',\n",
              " 4: 'Apr',\n",
              " 5: 'May',\n",
              " 6: 'Jun',\n",
              " 7: 'Jul',\n",
              " 8: 'Aug',\n",
              " 9: 'Sep',\n",
              " 10: 'Oct',\n",
              " 11: 'Nov',\n",
              " 12: 'Dec'}"
            ]
          },
          "metadata": {},
          "execution_count": 7
        }
      ]
    },
    {
      "cell_type": "markdown",
      "source": [
        "**Build a dictionary dynamically**"
      ],
      "metadata": {
        "id": "5H0rUL9tnhzV"
      }
    },
    {
      "cell_type": "code",
      "source": [
        "counts = {}\n",
        "\n",
        "while len(counts) < 5:\n",
        "  key = input(\"Please enter a string: \")\n",
        "  if key in counts:\n",
        "    counts[key] += 1\n",
        "  else:\n",
        "    counts[key] = 1\n",
        "counts"
      ],
      "metadata": {
        "colab": {
          "base_uri": "https://localhost:8080/"
        },
        "id": "ma1qmmQGnn1A",
        "outputId": "1aff69d1-fa50-45be-cfb2-72f23be19d34"
      },
      "execution_count": null,
      "outputs": [
        {
          "name": "stdout",
          "output_type": "stream",
          "text": [
            "Please enter a string: a\n",
            "Please enter a string: b\n",
            "Please enter a string: c\n",
            "Please enter a string: c\n",
            "Please enter a string: d\n",
            "Please enter a string: a\n",
            "Please enter a string: a\n",
            "Please enter a string: a\n",
            "Please enter a string: e\n"
          ]
        },
        {
          "output_type": "execute_result",
          "data": {
            "text/plain": [
              "{'a': 4, 'b': 1, 'c': 2, 'd': 1, 'e': 1}"
            ]
          },
          "metadata": {},
          "execution_count": 20
        }
      ]
    },
    {
      "cell_type": "markdown",
      "source": [
        "**2/26 Parking Garage-Initial Problem**"
      ],
      "metadata": {
        "id": "ajKErPHiXIAE"
      }
    },
    {
      "cell_type": "code",
      "source": [
        "def calcFee(hours):\n",
        "  fee = 5 + 2.5 * hours\n",
        "  if fee < 10.0:\n",
        "    fee = 10.0\n",
        "  elif fee > 20.0:\n",
        "   fee = 20.0\n",
        "  print(f'Fee: ${fee}')\n",
        "\n",
        "def main():\n",
        "  numHours = int(input(\"Enter hours parked: \"))\n",
        "  calcFee(numHours)\n",
        "\n",
        "if __name__ == \"__main__\":\n",
        "  main()"
      ],
      "metadata": {
        "colab": {
          "base_uri": "https://localhost:8080/"
        },
        "id": "-k7DTUFWZ9ls",
        "outputId": "a5019112-7ea7-400e-ed5f-0464408ace28"
      },
      "execution_count": null,
      "outputs": [
        {
          "output_type": "stream",
          "name": "stdout",
          "text": [
            "Enter hours parked: 4\n",
            "Fee: $15.0\n"
          ]
        }
      ]
    },
    {
      "cell_type": "markdown",
      "source": [
        "**Reverse strings Using Recursion**"
      ],
      "metadata": {
        "id": "ucP4WH5sp9n5"
      }
    },
    {
      "cell_type": "code",
      "source": [
        "def reverse(s):\n",
        "  if len(s) == 1:\n",
        "    return s\n",
        "  else:\n",
        "    return s[-1]+reverse(s[:-1])\n",
        "\n",
        "reverse('Hello')"
      ],
      "metadata": {
        "colab": {
          "base_uri": "https://localhost:8080/",
          "height": 35
        },
        "id": "QQRnVlhv_tQy",
        "outputId": "41e4e7a3-f45c-4ed2-f616-c7ea9d08b721"
      },
      "execution_count": null,
      "outputs": [
        {
          "output_type": "execute_result",
          "data": {
            "text/plain": [
              "'olleH'"
            ],
            "application/vnd.google.colaboratory.intrinsic+json": {
              "type": "string"
            }
          },
          "metadata": {},
          "execution_count": 4
        }
      ]
    },
    {
      "cell_type": "markdown",
      "source": [
        "**Exception Error**"
      ],
      "metadata": {
        "id": "6UlVEaS5DDB8"
      }
    },
    {
      "cell_type": "code",
      "source": [
        "def calcFee(hours):\n",
        "  fee = 5 + 2.5 * hours\n",
        "  if fee < 10.0:\n",
        "    fee = 10.0\n",
        "  elif fee > 20.0:\n",
        "   fee = 20.0\n",
        "  print(f'Fee: ${fee}')\n",
        "\n",
        "def main():\n",
        "  try:\n",
        "    numHours = int(input(\"Enter hours parked: \"))\n",
        "    calcFee(numHours)\n",
        "  except ValueError:\n",
        "    print(\"Cannot cast to int().\")\n",
        "  except:\n",
        "    print(\"Unknown error...\")\n",
        "\n",
        "if __name__ == \"__main__\":\n",
        "  main()"
      ],
      "metadata": {
        "colab": {
          "base_uri": "https://localhost:8080/"
        },
        "id": "oxQnXC9mDB50",
        "outputId": "1f7bc02f-a0ee-46d6-c934-ebc1461461cf"
      },
      "execution_count": null,
      "outputs": [
        {
          "output_type": "stream",
          "name": "stdout",
          "text": [
            "Enter hours parked: -5\n",
            "Fee: $10.0\n"
          ]
        }
      ]
    },
    {
      "cell_type": "code",
      "source": [
        "def getValues(n):\n",
        "  L = []\n",
        "  for i in range(n):\n",
        "    try:\n",
        "     weight = float(input(\"Please enter a weight:\"))\n",
        "    except ValueError:\n",
        "      print(\"Cannot cast to float().\")\n",
        "    L.append(weight)\n",
        "  return L\n",
        "\n",
        "def calcAverage(alist):\n",
        "  try:\n",
        "    print(sum(alist[2:]) / len(alist[2:]))\n",
        "  except ZeroDivisionError:\n",
        "    print(\"Cannot divide by zero.\")\n",
        "\n",
        "if __name__ == \"__main__\":\n",
        "  try:\n",
        "   n = int(input(\"Enter size of list: \"))\n",
        "  except ValueError:\n",
        "    print(\"Input cannot be casted as int()\")\n",
        "  alist = getValues(n)\n",
        "  calcAverage(alist)"
      ],
      "metadata": {
        "colab": {
          "base_uri": "https://localhost:8080/"
        },
        "id": "jZ-huLybGwEh",
        "outputId": "541f1f72-f7df-4aa3-fb18-258f2282ab29"
      },
      "execution_count": null,
      "outputs": [
        {
          "output_type": "stream",
          "name": "stdout",
          "text": [
            "Enter size of list: 0\n",
            "Cannot divide by zero.\n"
          ]
        }
      ]
    },
    {
      "cell_type": "markdown",
      "source": [
        "**Class Greeting**"
      ],
      "metadata": {
        "id": "igNbzj7KJTRI"
      }
    },
    {
      "cell_type": "code",
      "source": [
        "class Greeting:\n",
        "  def __init__(self, first, last):\n",
        "    self.first = first\n",
        "    self.last = last\n",
        "  def display(self, formal=False):\n",
        "    if formal:\n",
        "      print(f'Hello {self.first} {self.last}')\n",
        "    else:\n",
        "      print(f'Hi {self.first}')\n",
        "\n",
        "  def __str__(self):\n",
        "    return f'{self.first}, {self.last}'\n",
        "\n",
        "greeting = Greeting('Donald', 'Becker')\n",
        "greeting2 = Greeting('Bob', 'Dylan')\n",
        "greeting.display(formal=True)\n",
        "print(greeting)\n",
        "print(greeting2)"
      ],
      "metadata": {
        "colab": {
          "base_uri": "https://localhost:8080/"
        },
        "id": "445AATgMLM1U",
        "outputId": "6e4ba9fb-8d98-4d69-fb1c-46e1c98b7c14"
      },
      "execution_count": 24,
      "outputs": [
        {
          "output_type": "stream",
          "name": "stdout",
          "text": [
            "Hello Donald Becker\n",
            "Donald, Becker\n",
            "Bob, Dylan\n"
          ]
        }
      ]
    }
  ]
}