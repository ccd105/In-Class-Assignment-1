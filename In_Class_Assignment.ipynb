{
  "nbformat": 4,
  "nbformat_minor": 0,
  "metadata": {
    "colab": {
      "provenance": [],
      "authorship_tag": "ABX9TyMIHWLQUUwx4/OAQ8N1JvBU",
      "include_colab_link": true
    },
    "kernelspec": {
      "name": "python3",
      "display_name": "Python 3"
    },
    "language_info": {
      "name": "python"
    }
  },
  "cells": [
    {
      "cell_type": "markdown",
      "metadata": {
        "id": "view-in-github",
        "colab_type": "text"
      },
      "source": [
        "<a href=\"https://colab.research.google.com/github/ccd105/In-Class-Assignment-1/blob/main/In_Class_Assignment.ipynb\" target=\"_parent\"><img src=\"https://colab.research.google.com/assets/colab-badge.svg\" alt=\"Open In Colab\"/></a>"
      ]
    },
    {
      "cell_type": "markdown",
      "source": [
        "Area of a cylinder:"
      ],
      "metadata": {
        "id": "bNO540sVeoZ-"
      }
    },
    {
      "cell_type": "code",
      "execution_count": null,
      "metadata": {
        "colab": {
          "base_uri": "https://localhost:8080/"
        },
        "id": "UFXAGN90Z5N_",
        "outputId": "51abea5a-0ec0-4a70-e731-2ec0d91f5a81"
      },
      "outputs": [
        {
          "output_type": "stream",
          "name": "stdout",
          "text": [
            "Please provide the radius: 5\n",
            "Please provide the height: 10\n",
            "Area of cylinder = 471.23889 sq. ft\n"
          ]
        }
      ],
      "source": [
        "radius = float(input(\"Please provide the radius: \"))\n",
        "height = float(input(\"Please provide the height: \"))\n",
        "pi = 3.1415926\n",
        "\n",
        "area = (2 * pi * radius**2)+(2 * pi * radius * height)\n",
        "print(f'Area of cylinder = {area} sq. ft')"
      ]
    },
    {
      "cell_type": "markdown",
      "source": [
        "**Fri Jan 31:** Design a calculator"
      ],
      "metadata": {
        "id": "bHiriU5tb9aP"
      }
    },
    {
      "cell_type": "code",
      "source": [
        "first = float(input(\"Please provide the first number: \"))\n",
        "opperation = input(\"Please provide the opperation (+,-,*,/,//,**,%): \")\n",
        "second = float(input(\"Please provide the second number: \"))\n",
        "\n",
        "if opperation == \"+\":\n",
        "    print(f'{first} + {second} = {first + second}')\n",
        "elif opperation == \"-\":\n",
        "    print(f'{first} - {second} = {first - second}')\n",
        "elif opperation == \"*\":\n",
        "    print(f'{first} * {second} = {first * second}')\n",
        "elif opperation == \"/\":\n",
        "    print(f'{first} / {second} = {first / second}')\n",
        "elif opperation == \"//\":\n",
        "    print(f'{first} // {second} = {first // second}')\n",
        "elif opperation == \"**\":\n",
        "    print(f'{first} ** {second} = {first ** second}')\n",
        "elif opperation == \"%\":\n",
        "    print(f'{first} % {second} = {first % second}')\n",
        "else:\n",
        "    print(\"Invalid opperation\")"
      ],
      "metadata": {
        "colab": {
          "base_uri": "https://localhost:8080/"
        },
        "id": "Odh5Mjb7cBJD",
        "outputId": "84fa8110-ad4d-4624-96e1-cc8aac042206"
      },
      "execution_count": 10,
      "outputs": [
        {
          "output_type": "stream",
          "name": "stdout",
          "text": [
            "Please provide the first number: 5\n",
            "Please provide the opperation (+,-,*,/,//,**,%): #\n",
            "Please provide the second number: 9\n",
            "Invalid opperation\n"
          ]
        }
      ]
    }
  ]
}