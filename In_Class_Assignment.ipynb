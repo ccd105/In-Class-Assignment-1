{
  "nbformat": 4,
  "nbformat_minor": 0,
  "metadata": {
    "colab": {
      "provenance": [],
      "authorship_tag": "ABX9TyNzSi+38+BMnFyFdU+wjC7a",
      "include_colab_link": true
    },
    "kernelspec": {
      "name": "python3",
      "display_name": "Python 3"
    },
    "language_info": {
      "name": "python"
    }
  },
  "cells": [
    {
      "cell_type": "markdown",
      "metadata": {
        "id": "view-in-github",
        "colab_type": "text"
      },
      "source": [
        "<a href=\"https://colab.research.google.com/github/ccd105/In-Class-Assignment-1/blob/main/In_Class_Assignment.ipynb\" target=\"_parent\"><img src=\"https://colab.research.google.com/assets/colab-badge.svg\" alt=\"Open In Colab\"/></a>"
      ]
    },
    {
      "cell_type": "markdown",
      "source": [
        "Area of a cylinder:"
      ],
      "metadata": {
        "id": "bNO540sVeoZ-"
      }
    },
    {
      "cell_type": "code",
      "execution_count": null,
      "metadata": {
        "colab": {
          "base_uri": "https://localhost:8080/"
        },
        "id": "UFXAGN90Z5N_",
        "outputId": "51abea5a-0ec0-4a70-e731-2ec0d91f5a81"
      },
      "outputs": [
        {
          "output_type": "stream",
          "name": "stdout",
          "text": [
            "Please provide the radius: 5\n",
            "Please provide the height: 10\n",
            "Area of cylinder = 471.23889 sq. ft\n"
          ]
        }
      ],
      "source": [
        "radius = float(input(\"Please provide the radius: \"))\n",
        "height = float(input(\"Please provide the height: \"))\n",
        "pi = 3.1415926\n",
        "\n",
        "area = (2 * pi * radius**2)+(2 * pi * radius * height)\n",
        "print(f'Area of cylinder = {area} sq. ft')"
      ]
    },
    {
      "cell_type": "markdown",
      "source": [
        "**Fri Jan 31:** Design a calculator"
      ],
      "metadata": {
        "id": "bHiriU5tb9aP"
      }
    },
    {
      "cell_type": "code",
      "source": [
        "first = float(input(\"Please provide the first number: \"))\n",
        "opperation = input(\"Please provide the opperation (+,-,*,/,//,**,%): \")\n",
        "second = float(input(\"Please provide the second number: \"))\n",
        "\n",
        "if opperation == \"+\":\n",
        "    print(f'{first} + {second} = {first + second}')\n",
        "elif opperation == \"-\":\n",
        "    print(f'{first} - {second} = {first - second}')\n",
        "elif opperation == \"*\":\n",
        "    print(f'{first} * {second} = {first * second}')\n",
        "elif opperation == \"/\":\n",
        "    print(f'{first} / {second} = {first / second}')\n",
        "elif opperation == \"//\":\n",
        "    print(f'{first} // {second} = {first // second}')\n",
        "elif opperation == \"**\":\n",
        "    print(f'{first} ** {second} = {first ** second}')\n",
        "elif opperation == \"%\":\n",
        "    print(f'{first} % {second} = {first % second}')\n",
        "else:\n",
        "    print(\"Invalid opperation\")"
      ],
      "metadata": {
        "colab": {
          "base_uri": "https://localhost:8080/"
        },
        "id": "Odh5Mjb7cBJD",
        "outputId": "84fa8110-ad4d-4624-96e1-cc8aac042206"
      },
      "execution_count": null,
      "outputs": [
        {
          "output_type": "stream",
          "name": "stdout",
          "text": [
            "Please provide the first number: 5\n",
            "Please provide the opperation (+,-,*,/,//,**,%): #\n",
            "Please provide the second number: 9\n",
            "Invalid opperation\n"
          ]
        }
      ]
    },
    {
      "cell_type": "markdown",
      "source": [
        "**2/5 Parking Garage - Initial Problem**"
      ],
      "metadata": {
        "id": "61v3KM1sJRKu"
      }
    },
    {
      "cell_type": "code",
      "source": [
        "for number in range(1, 9):\n",
        "  fee = 5 + 2.5 * number\n",
        "  if fee < 10.0:\n",
        "    fee = 10.0\n",
        "  if fee > 20.0:\n",
        "   fee = 20.0\n",
        "  print(number, fee)"
      ],
      "metadata": {
        "colab": {
          "base_uri": "https://localhost:8080/"
        },
        "id": "nlelNWh6K38n",
        "outputId": "5a0982d3-c4e2-4687-9536-8eda72a4e928"
      },
      "execution_count": null,
      "outputs": [
        {
          "output_type": "stream",
          "name": "stdout",
          "text": [
            "1 10.0\n",
            "2 10.0\n",
            "3 12.5\n",
            "4 15.0\n",
            "5 17.5\n",
            "6 20.0\n",
            "7 20.0\n",
            "8 20.0\n"
          ]
        }
      ]
    },
    {
      "cell_type": "markdown",
      "source": [
        "**2/5 Movie Theater - Initial Problem**"
      ],
      "metadata": {
        "id": "RTywTKAsOAn5"
      }
    },
    {
      "cell_type": "code",
      "source": [
        "print('Ad$' , 'Profit')\n",
        "for adcost in range(0,201,25):\n",
        "  additional = 2 * round(adcost ** 0.5)\n",
        "  profit = (20 + additional) * 10 - 200 - adcost\n",
        "  print(adcost , profit)\n"
      ],
      "metadata": {
        "colab": {
          "base_uri": "https://localhost:8080/"
        },
        "id": "BVM8SjxCRwjk",
        "outputId": "dca29c77-1ba7-4ee9-909c-57756e6347a5"
      },
      "execution_count": null,
      "outputs": [
        {
          "output_type": "stream",
          "name": "stdout",
          "text": [
            "Ad$ Profit\n",
            "0 0\n",
            "25 75\n",
            "50 90\n",
            "75 105\n",
            "100 100\n",
            "125 95\n",
            "150 90\n",
            "175 85\n",
            "200 80\n"
          ]
        }
      ]
    },
    {
      "cell_type": "markdown",
      "source": [
        "**2/10 Rock-Paper-Scissors**"
      ],
      "metadata": {
        "id": "6qHBrD7B4jxP"
      }
    },
    {
      "cell_type": "code",
      "source": [
        "import random\n",
        "\n",
        "play = input(\"Would you like to play? (y/n): \")\n",
        "\n",
        "while play == \"y\":\n",
        "  p1 = input(\"Player 1 (rock, paper, scissors): \")\n",
        "  p2 = random.choice([\"rock\", \"paper\", \"scissors\"])\n",
        "\n",
        "  print(f'Player chose {p1}; Computer chose {p2}')\n",
        "\n",
        "  if p1 == p2:\n",
        "    print(\"Draw\")\n",
        "  elif p1 == \"rock\" and p2 == \"scissors\":\n",
        "    print(\"Player 1 Wins!\")\n",
        "  elif p1 == \"scissors\" and p2 == \"paper\":\n",
        "    print(\"Player 1 Wins!\")\n",
        "  elif p1 == \"paper\" and p2 == \"rock\":\n",
        "    print(\"Player 1 Wins!\")\n",
        "  else:\n",
        "    print(\"Player 2 Wins!\")\n",
        "\n",
        "  play = input(\"Do you want to play a new game? (y/n): \")\n",
        "\n",
        "print(\"Good day!\")"
      ],
      "metadata": {
        "colab": {
          "base_uri": "https://localhost:8080/"
        },
        "id": "K5QwpYrh9e7-",
        "outputId": "65d1ecc1-8b6e-411a-ccb2-268e11a25c07"
      },
      "execution_count": null,
      "outputs": [
        {
          "output_type": "stream",
          "name": "stdout",
          "text": [
            "Would you like to play? (y/n): y\n",
            "Player 1 (rock, paper, scissors): paper\n",
            "Player chose paper; Computer chose paper\n",
            "Draw\n",
            "Do you want to play a new game? (y/n): n\n",
            "Good day!\n"
          ]
        }
      ]
    },
    {
      "cell_type": "markdown",
      "source": [
        "**2/17 Numbers Until 0**"
      ],
      "metadata": {
        "id": "CMk9oDcb_kHo"
      }
    },
    {
      "cell_type": "code",
      "source": [
        "lst = []\n",
        "\n",
        "num = float(input(\"Please provide a number: \"))\n",
        "\n",
        "while num != 0:\n",
        "  lst.append(num)\n",
        "  num = float(input(\"Please provide a number: \"))\n",
        "lst.sort(reverse=True)\n",
        "print(lst)"
      ],
      "metadata": {
        "colab": {
          "base_uri": "https://localhost:8080/"
        },
        "id": "9R8yfFXOCMer",
        "outputId": "ce2e4623-cdf9-4d67-9ed1-b6368b99955c"
      },
      "execution_count": 15,
      "outputs": [
        {
          "output_type": "stream",
          "name": "stdout",
          "text": [
            "Please provide a number: 5\n",
            "Please provide a number: 7\n",
            "Please provide a number: 8\n",
            "Please provide a number: 6\n",
            "Please provide a number: 0\n",
            "[8.0, 7.0, 6.0, 5.0]\n"
          ]
        }
      ]
    }
  ]
}